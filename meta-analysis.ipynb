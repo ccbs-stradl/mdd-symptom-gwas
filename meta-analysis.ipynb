{
 "cells": [
  {
   "cell_type": "markdown",
   "metadata": {},
   "source": [
    "# MDD Symptoms meta analysis\n",
    "\n",
    "Set up in process meta-analysis so that leave-one-out (LOO) can be swiftly generated."
   ]
  },
  {
   "cell_type": "code",
   "execution_count": 2,
   "metadata": {},
   "outputs": [],
   "source": [
    "import polars as pl"
   ]
  },
  {
   "cell_type": "markdown",
   "metadata": {},
   "source": [
    "Symptom references"
   ]
  },
  {
   "cell_type": "code",
   "execution_count": 3,
   "metadata": {},
   "outputs": [
    {
     "data": {
      "text/html": [
       "<div><style>\n",
       ".dataframe > thead > tr > th,\n",
       ".dataframe > tbody > tr > td {\n",
       "  text-align: right;\n",
       "  white-space: pre-wrap;\n",
       "}\n",
       "</style>\n",
       "<small>shape: (15, 3)</small><table border=\"1\" class=\"dataframe\"><thead><tr><th>reference</th><th>abbrev</th><th>description</th></tr><tr><td>str</td><td>str</td><td>str</td></tr></thead><tbody><tr><td>&quot;MDD1&quot;</td><td>&quot;depressed&quot;</td><td>&quot;MDD1&quot;</td></tr><tr><td>&quot;MDD2&quot;</td><td>&quot;anhedonia&quot;</td><td>&quot;MDD2&quot;</td></tr><tr><td>&quot;MDD3&quot;</td><td>&quot;weightChange&quot;</td><td>&quot;MDD3&quot;</td></tr><tr><td>&quot;MDD3a&quot;</td><td>&quot;weightLoss&quot;</td><td>&quot;MDD3a&quot;</td></tr><tr><td>&quot;MDD3b&quot;</td><td>&quot;weightGain&quot;</td><td>&quot;MDD3b&quot;</td></tr><tr><td>&quot;MDD4&quot;</td><td>&quot;sleepChange&quot;</td><td>&quot;MDD4&quot;</td></tr><tr><td>&quot;MDD4a&quot;</td><td>&quot;sleepProb&quot;</td><td>&quot;MDD4a&quot;</td></tr><tr><td>&quot;MDD4b&quot;</td><td>&quot;sleepMore&quot;</td><td>&quot;MDD4b&quot;</td></tr><tr><td>&quot;MDD5&quot;</td><td>&quot;psychomotor&quot;</td><td>&quot;MDD5&quot;</td></tr><tr><td>&quot;MDD5a&quot;</td><td>&quot;psychomotorFas…</td><td>&quot;MDD5a&quot;</td></tr><tr><td>&quot;MDD5b&quot;</td><td>&quot;psychomotorSlo…</td><td>&quot;MDD5b&quot;</td></tr><tr><td>&quot;MDD6&quot;</td><td>&quot;fatigue&quot;</td><td>&quot;MDD6&quot;</td></tr><tr><td>&quot;MDD7&quot;</td><td>&quot;worthless&quot;</td><td>&quot;MDD7&quot;</td></tr><tr><td>&quot;MDD8&quot;</td><td>&quot;concentration&quot;</td><td>&quot;MDD8&quot;</td></tr><tr><td>&quot;MDD9&quot;</td><td>&quot;death&quot;</td><td>&quot;MDD9&quot;</td></tr></tbody></table></div>"
      ],
      "text/plain": [
       "shape: (15, 3)\n",
       "┌───────────┬───────────────┬─────────────┐\n",
       "│ reference ┆ abbrev        ┆ description │\n",
       "│ ---       ┆ ---           ┆ ---         │\n",
       "│ str       ┆ str           ┆ str         │\n",
       "╞═══════════╪═══════════════╪═════════════╡\n",
       "│ MDD1      ┆ depressed     ┆ MDD1        │\n",
       "│ MDD2      ┆ anhedonia     ┆ MDD2        │\n",
       "│ MDD3      ┆ weightChange  ┆ MDD3        │\n",
       "│ MDD3a     ┆ weightLoss    ┆ MDD3a       │\n",
       "│ …         ┆ …             ┆ …           │\n",
       "│ MDD6      ┆ fatigue       ┆ MDD6        │\n",
       "│ MDD7      ┆ worthless     ┆ MDD7        │\n",
       "│ MDD8      ┆ concentration ┆ MDD8        │\n",
       "│ MDD9      ┆ death         ┆ MDD9        │\n",
       "└───────────┴───────────────┴─────────────┘"
      ]
     },
     "execution_count": 3,
     "metadata": {},
     "output_type": "execute_result"
    }
   ],
   "source": [
    "symptom_reference_tab = \"\"\"\n",
    "MDD1;depressed;Depressed mood most of the day, nearly every day\n",
    "MDD2;anhedonia;Markedly diminished interest or pleasure in all, or almost all, activities most of the day, nearly every day\n",
    "MDD3;weightChange;Significant change in weight or appetite\n",
    "MDD3a;weightLoss;Significant weight loss or decrease in appetite\n",
    "MDD3b;weightGain;Significant weight gain or increase in appetite\n",
    "MDD4;sleepChange;Sleeping too much or not sleeping enough\n",
    "MDD4a;sleepProb;Insomnia nearly every day\n",
    "MDD4b;sleepMore;Hypersomnia nearly every day\n",
    "MDD5;psychomotor;Changes in speed/amount of moving or speaking\n",
    "MDD5a;psychomotorFast;Psychomotor agitation nearly every day\n",
    "MDD5b;psychomotorSlow;Psychomotor retardation nearly every day\n",
    "MDD6;fatigue;Fatigue or loss of energy nearly every day\n",
    "MDD7;worthless;Feelings of worthlessness or excessive or inappropriate guilt\n",
    "MDD8;concentration;Diminished ability to think or concentrate, or indecisiveness\n",
    "MDD9;death;Recurrent thoughts of death or suicide or a suicide attempt or a specific plan for attempting suicide\n",
    "\"\"\"\n",
    "\n",
    "symptom_reference_dat = [line.split(';') for line in symptom_reference_tab.strip().split('\\n')]\n",
    "references = [symp[0] for symp in symptom_reference_dat]\n",
    "abbrevs = [symp[1] for symp in symptom_reference_dat]\n",
    "descriptions = [symp[0] for symp in symptom_reference_dat]\n",
    "#dsm_mdd_symptoms_reference_df = pd.DataFrame(symptom_reference_dat,\n",
    "#    columns=['Reference', 'Symptom Abbrev.', 'Description'])\n",
    "dsm_mdd_symptoms_reference_df = pl.DataFrame(\n",
    "    {\n",
    "        \"reference\": references,\n",
    "        \"abbrev\": abbrevs,\n",
    "        \"description\": descriptions\n",
    "    }\n",
    ")\n",
    "dsm_mdd_symptoms_reference_df"
   ]
  },
  {
   "cell_type": "markdown",
   "metadata": {},
   "source": [
    "Read list of cohorts and groupings"
   ]
  },
  {
   "cell_type": "code",
   "execution_count": 4,
   "metadata": {},
   "outputs": [
    {
     "data": {
      "text/html": [
       "<div><style>\n",
       ".dataframe > thead > tr > th,\n",
       ".dataframe > tbody > tr > td {\n",
       "  text-align: right;\n",
       "  white-space: pre-wrap;\n",
       "}\n",
       "</style>\n",
       "<small>shape: (245, 9)</small><table border=\"1\" class=\"dataframe\"><thead><tr><th>filename</th><th>cohort</th><th>reference</th><th>abbrev</th><th>description</th><th>metagroup</th><th>studymatch</th><th>meta</th><th>studyname</th></tr><tr><td>str</td><td>str</td><td>str</td><td>str</td><td>str</td><td>str</td><td>str</td><td>str</td><td>str</td></tr></thead><tbody><tr><td>&quot;daner_MDD1_bid…</td><td>&quot;PGC&quot;</td><td>&quot;MDD1&quot;</td><td>&quot;depressed&quot;</td><td>&quot;MDD1&quot;</td><td>&quot;Clin&quot;</td><td>&quot;bidi1&quot;</td><td>&quot;Clin.MDD1_depr…</td><td>&quot;bidi1&quot;</td></tr><tr><td>&quot;daner_MDD1_gep…</td><td>&quot;PGC&quot;</td><td>&quot;MDD1&quot;</td><td>&quot;depressed&quot;</td><td>&quot;MDD1&quot;</td><td>&quot;Clin&quot;</td><td>&quot;gep3&quot;</td><td>&quot;Clin.MDD1_depr…</td><td>&quot;gep3&quot;</td></tr><tr><td>&quot;daner_MDD1_nes…</td><td>&quot;PGC&quot;</td><td>&quot;MDD1&quot;</td><td>&quot;depressed&quot;</td><td>&quot;MDD1&quot;</td><td>&quot;Clin&quot;</td><td>&quot;nes1&quot;</td><td>&quot;Clin.MDD1_depr…</td><td>&quot;nes1&quot;</td></tr><tr><td>&quot;daner_MDD1_rot…</td><td>&quot;PGC&quot;</td><td>&quot;MDD1&quot;</td><td>&quot;depressed&quot;</td><td>&quot;MDD1&quot;</td><td>&quot;Clin&quot;</td><td>&quot;rot4&quot;</td><td>&quot;Clin.MDD1_depr…</td><td>&quot;rot4&quot;</td></tr><tr><td>&quot;daner_MDD1_stm…</td><td>&quot;PGC&quot;</td><td>&quot;MDD1&quot;</td><td>&quot;depressed&quot;</td><td>&quot;MDD1&quot;</td><td>&quot;Clin&quot;</td><td>&quot;stm2&quot;</td><td>&quot;Clin.MDD1_depr…</td><td>&quot;stm2&quot;</td></tr><tr><td>&quot;daner_MDD1_twg…</td><td>&quot;PGC&quot;</td><td>&quot;MDD1&quot;</td><td>&quot;depressed&quot;</td><td>&quot;MDD1&quot;</td><td>&quot;Clin&quot;</td><td>&quot;twg2&quot;</td><td>&quot;Clin.MDD1_depr…</td><td>&quot;twg2&quot;</td></tr><tr><td>&quot;daner_MDD2_bid…</td><td>&quot;PGC&quot;</td><td>&quot;MDD2&quot;</td><td>&quot;anhedonia&quot;</td><td>&quot;MDD2&quot;</td><td>&quot;Clin&quot;</td><td>&quot;bidi1&quot;</td><td>&quot;Clin.MDD2_anhe…</td><td>&quot;bidi1&quot;</td></tr><tr><td>&quot;daner_MDD2_gen…</td><td>&quot;PGC&quot;</td><td>&quot;MDD2&quot;</td><td>&quot;anhedonia&quot;</td><td>&quot;MDD2&quot;</td><td>&quot;Clin&quot;</td><td>&quot;gens&quot;</td><td>&quot;Clin.MDD2_anhe…</td><td>&quot;gens&quot;</td></tr><tr><td>&quot;daner_MDD2_gep…</td><td>&quot;PGC&quot;</td><td>&quot;MDD2&quot;</td><td>&quot;anhedonia&quot;</td><td>&quot;MDD2&quot;</td><td>&quot;Clin&quot;</td><td>&quot;gep3&quot;</td><td>&quot;Clin.MDD2_anhe…</td><td>&quot;gep3&quot;</td></tr><tr><td>&quot;daner_MDD2_grn…</td><td>&quot;PGC&quot;</td><td>&quot;MDD2&quot;</td><td>&quot;anhedonia&quot;</td><td>&quot;MDD2&quot;</td><td>&quot;Clin&quot;</td><td>&quot;grnd&quot;</td><td>&quot;Clin.MDD2_anhe…</td><td>&quot;grnd&quot;</td></tr><tr><td>&quot;daner_MDD2_nes…</td><td>&quot;PGC&quot;</td><td>&quot;MDD2&quot;</td><td>&quot;anhedonia&quot;</td><td>&quot;MDD2&quot;</td><td>&quot;Clin&quot;</td><td>&quot;nes1&quot;</td><td>&quot;Clin.MDD2_anhe…</td><td>&quot;nes1&quot;</td></tr><tr><td>&quot;daner_MDD2_qi3…</td><td>&quot;PGC&quot;</td><td>&quot;MDD2&quot;</td><td>&quot;anhedonia&quot;</td><td>&quot;MDD2&quot;</td><td>&quot;Clin&quot;</td><td>&quot;qi3c&quot;</td><td>&quot;Clin.MDD2_anhe…</td><td>&quot;qi3c&quot;</td></tr><tr><td>&hellip;</td><td>&hellip;</td><td>&hellip;</td><td>&hellip;</td><td>&hellip;</td><td>&hellip;</td><td>&hellip;</td><td>&hellip;</td><td>&hellip;</td></tr><tr><td>&quot;daner_MDD6_FAT…</td><td>&quot;EstBB&quot;</td><td>&quot;MDD6&quot;</td><td>&quot;fatigue&quot;</td><td>&quot;MDD6&quot;</td><td>&quot;Comm&quot;</td><td>null</td><td>&quot;Comm.MDD6_fati…</td><td>&quot;EstBB&quot;</td></tr><tr><td>&quot;daner_MDD7_GUI…</td><td>&quot;EstBB&quot;</td><td>&quot;MDD7&quot;</td><td>&quot;worthless&quot;</td><td>&quot;MDD7&quot;</td><td>&quot;Comm&quot;</td><td>null</td><td>&quot;Comm.MDD7_wort…</td><td>&quot;EstBB&quot;</td></tr><tr><td>&quot;daner_MDD8_CON…</td><td>&quot;EstBB&quot;</td><td>&quot;MDD8&quot;</td><td>&quot;concentration&quot;</td><td>&quot;MDD8&quot;</td><td>&quot;Comm&quot;</td><td>null</td><td>&quot;Comm.MDD8_conc…</td><td>&quot;EstBB&quot;</td></tr><tr><td>&quot;daner_MDD9_SUI…</td><td>&quot;EstBB&quot;</td><td>&quot;MDD9&quot;</td><td>&quot;death&quot;</td><td>&quot;MDD9&quot;</td><td>&quot;Comm&quot;</td><td>null</td><td>&quot;Comm.MDD9_deat…</td><td>&quot;EstBB&quot;</td></tr><tr><td>&quot;daner_dichotom…</td><td>&quot;janpy&quot;</td><td>&quot;MDD8&quot;</td><td>&quot;concentration&quot;</td><td>&quot;MDD8&quot;</td><td>&quot;Clin&quot;</td><td>null</td><td>&quot;Clin.MDD8_conc…</td><td>&quot;janpy&quot;</td></tr><tr><td>&quot;daner_dichotom…</td><td>&quot;janpy&quot;</td><td>&quot;MDD2&quot;</td><td>&quot;anhedonia&quot;</td><td>&quot;MDD2&quot;</td><td>&quot;Clin&quot;</td><td>null</td><td>&quot;Clin.MDD2_anhe…</td><td>&quot;janpy&quot;</td></tr><tr><td>&quot;daner_dichotom…</td><td>&quot;janpy&quot;</td><td>&quot;MDD5b&quot;</td><td>&quot;psychomotorSlo…</td><td>&quot;MDD5b&quot;</td><td>&quot;Clin&quot;</td><td>null</td><td>&quot;Clin.MDD5b_psy…</td><td>&quot;janpy&quot;</td></tr><tr><td>&quot;daner_dichotom…</td><td>&quot;janpy&quot;</td><td>&quot;MDD7&quot;</td><td>&quot;worthless&quot;</td><td>&quot;MDD7&quot;</td><td>&quot;Clin&quot;</td><td>null</td><td>&quot;Clin.MDD7_wort…</td><td>&quot;janpy&quot;</td></tr><tr><td>&quot;daner_dichotom…</td><td>&quot;janpy&quot;</td><td>&quot;MDD3a&quot;</td><td>&quot;weightLoss&quot;</td><td>&quot;MDD3a&quot;</td><td>&quot;Clin&quot;</td><td>null</td><td>&quot;Clin.MDD3a_wei…</td><td>&quot;janpy&quot;</td></tr><tr><td>&quot;daner_dichotom…</td><td>&quot;janpy&quot;</td><td>&quot;MDD4a&quot;</td><td>&quot;sleepProb&quot;</td><td>&quot;MDD4a&quot;</td><td>&quot;Clin&quot;</td><td>null</td><td>&quot;Clin.MDD4a_sle…</td><td>&quot;janpy&quot;</td></tr><tr><td>&quot;daner_dichotom…</td><td>&quot;janpy&quot;</td><td>&quot;MDD1&quot;</td><td>&quot;depressed&quot;</td><td>&quot;MDD1&quot;</td><td>&quot;Clin&quot;</td><td>null</td><td>&quot;Clin.MDD1_depr…</td><td>&quot;janpy&quot;</td></tr><tr><td>&quot;daner_dichotom…</td><td>&quot;janpy&quot;</td><td>&quot;MDD9&quot;</td><td>&quot;death&quot;</td><td>&quot;MDD9&quot;</td><td>&quot;Clin&quot;</td><td>null</td><td>&quot;Clin.MDD9_deat…</td><td>&quot;janpy&quot;</td></tr></tbody></table></div>"
      ],
      "text/plain": [
       "shape: (245, 9)\n",
       "┌────────────┬────────┬───────────┬────────────┬───┬───────────┬───────────┬───────────┬───────────┐\n",
       "│ filename   ┆ cohort ┆ reference ┆ abbrev     ┆ … ┆ metagroup ┆ studymatc ┆ meta      ┆ studyname │\n",
       "│ ---        ┆ ---    ┆ ---       ┆ ---        ┆   ┆ ---       ┆ h         ┆ ---       ┆ ---       │\n",
       "│ str        ┆ str    ┆ str       ┆ str        ┆   ┆ str       ┆ ---       ┆ str       ┆ str       │\n",
       "│            ┆        ┆           ┆            ┆   ┆           ┆ str       ┆           ┆           │\n",
       "╞════════════╪════════╪═══════════╪════════════╪═══╪═══════════╪═══════════╪═══════════╪═══════════╡\n",
       "│ daner_MDD1 ┆ PGC    ┆ MDD1      ┆ depressed  ┆ … ┆ Clin      ┆ bidi1     ┆ Clin.MDD1 ┆ bidi1     │\n",
       "│ _bidi1.gz  ┆        ┆           ┆            ┆   ┆           ┆           ┆ _depresse ┆           │\n",
       "│            ┆        ┆           ┆            ┆   ┆           ┆           ┆ d         ┆           │\n",
       "│ daner_MDD1 ┆ PGC    ┆ MDD1      ┆ depressed  ┆ … ┆ Clin      ┆ gep3      ┆ Clin.MDD1 ┆ gep3      │\n",
       "│ _gep3.gz   ┆        ┆           ┆            ┆   ┆           ┆           ┆ _depresse ┆           │\n",
       "│            ┆        ┆           ┆            ┆   ┆           ┆           ┆ d         ┆           │\n",
       "│ daner_MDD1 ┆ PGC    ┆ MDD1      ┆ depressed  ┆ … ┆ Clin      ┆ nes1      ┆ Clin.MDD1 ┆ nes1      │\n",
       "│ _nes1.gz   ┆        ┆           ┆            ┆   ┆           ┆           ┆ _depresse ┆           │\n",
       "│            ┆        ┆           ┆            ┆   ┆           ┆           ┆ d         ┆           │\n",
       "│ daner_MDD1 ┆ PGC    ┆ MDD1      ┆ depressed  ┆ … ┆ Clin      ┆ rot4      ┆ Clin.MDD1 ┆ rot4      │\n",
       "│ _rot4.gz   ┆        ┆           ┆            ┆   ┆           ┆           ┆ _depresse ┆           │\n",
       "│            ┆        ┆           ┆            ┆   ┆           ┆           ┆ d         ┆           │\n",
       "│ …          ┆ …      ┆ …         ┆ …          ┆ … ┆ …         ┆ …         ┆ …         ┆ …         │\n",
       "│ daner_dich ┆ janpy  ┆ MDD3a     ┆ weightLoss ┆ … ┆ Clin      ┆ null      ┆ Clin.MDD3 ┆ janpy     │\n",
       "│ otomized_R ┆        ┆           ┆            ┆   ┆           ┆           ┆ a_weightL ┆           │\n",
       "│ educed_App ┆        ┆           ┆            ┆   ┆           ┆           ┆ oss       ┆           │\n",
       "│ et…        ┆        ┆           ┆            ┆   ┆           ┆           ┆           ┆           │\n",
       "│ daner_dich ┆ janpy  ┆ MDD4a     ┆ sleepProb  ┆ … ┆ Clin      ┆ null      ┆ Clin.MDD4 ┆ janpy     │\n",
       "│ otomized_R ┆        ┆           ┆            ┆   ┆           ┆           ┆ a_sleepPr ┆           │\n",
       "│ educed_Sle ┆        ┆           ┆            ┆   ┆           ┆           ┆ ob        ┆           │\n",
       "│ ep…        ┆        ┆           ┆            ┆   ┆           ┆           ┆           ┆           │\n",
       "│ daner_dich ┆ janpy  ┆ MDD1      ┆ depressed  ┆ … ┆ Clin      ┆ null      ┆ Clin.MDD1 ┆ janpy     │\n",
       "│ otomized_S ┆        ┆           ┆            ┆   ┆           ┆           ┆ _depresse ┆           │\n",
       "│ adness_2.m ┆        ┆           ┆            ┆   ┆           ┆           ┆ d         ┆           │\n",
       "│ et…        ┆        ┆           ┆            ┆   ┆           ┆           ┆           ┆           │\n",
       "│ daner_dich ┆ janpy  ┆ MDD9      ┆ death      ┆ … ┆ Clin      ┆ null      ┆ Clin.MDD9 ┆ janpy     │\n",
       "│ otomized_S ┆        ┆           ┆            ┆   ┆           ┆           ┆ _death    ┆           │\n",
       "│ uicidal_Th ┆        ┆           ┆            ┆   ┆           ┆           ┆           ┆           │\n",
       "│ ou…        ┆        ┆           ┆            ┆   ┆           ┆           ┆           ┆           │\n",
       "└────────────┴────────┴───────────┴────────────┴───┴───────────┴───────────┴───────────┴───────────┘"
      ]
     },
     "execution_count": 4,
     "metadata": {},
     "output_type": "execute_result"
    }
   ],
   "source": [
    "cohorts_df = pl.read_csv(\"meta/cohort_alignment.txt\", separator=\"\\t\")\n",
    "cohorts_reference_df = cohorts_df.join(dsm_mdd_symptoms_reference_df, on=\"reference\")\n",
    "\n",
    "cohorts_reference_df.with_columns(\n",
    "    pl.when(pl.col(\"cohort\").is_in([\"AGDS\", \"PGC\", \"GenScot\", \"janpy\"]))\n",
    "      .then(pl.lit(\"Clin\"))\n",
    "      .when(pl.col(\"cohort\").is_in([\"ASLPAC\", \"EstBB\", \"UKBB\"]))\n",
    "      .then(pl.lit(\"Comm\"))\n",
    "      .otherwise(pl.lit(None))\n",
    "      .alias(\"metagroup\"),\n",
    "    pl.col(\"filename\")\n",
    "     .str.extract(r\"daner_MDD[0-9ab]+_([a-z0-9]+)\", group_index=1)\n",
    "     .alias(\"studymatch\")\n",
    ").with_columns(\n",
    "    (pl.col(\"metagroup\") + \".\" + pl.col(\"reference\") + \"_\" + pl.col(\"abbrev\"))\n",
    "     .alias(\"meta\"),\n",
    "    pl.when(pl.col(\"studymatch\").is_null())\n",
    "     .then(pl.col(\"cohort\"))\n",
    "     .otherwise(pl.col(\"studymatch\"))\n",
    "     .alias(\"studyname\")\n",
    ")"
   ]
  }
 ],
 "metadata": {
  "kernelspec": {
   "display_name": "Python 3",
   "language": "python",
   "name": "python3"
  },
  "language_info": {
   "codemirror_mode": {
    "name": "ipython",
    "version": 3
   },
   "file_extension": ".py",
   "mimetype": "text/x-python",
   "name": "python",
   "nbconvert_exporter": "python",
   "pygments_lexer": "ipython3",
   "version": "3.11.6"
  }
 },
 "nbformat": 4,
 "nbformat_minor": 2
}
